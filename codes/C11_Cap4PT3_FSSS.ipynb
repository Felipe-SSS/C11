{
 "cells": [
  {
   "cell_type": "markdown",
   "id": "fabf4fdb",
   "metadata": {},
   "source": [
    "<center><img src=\"https://www.python.org/static/img/python-logo.png\" title=\"Python Logo\"/></center>"
   ]
  },
  {
   "cell_type": "markdown",
   "id": "4805f901",
   "metadata": {},
   "source": [
    "<blockquote>\n",
    "<center><h2 style=\"font-family:Lucida Console\">Ciência de Dados com Python</h2></center>\n",
    "</blockquote>\n",
    "\n",
    "```python \n",
    "print('Felipe Soares dos Santos Silveira, GES | 2025.2')\n",
    "```\n",
    "\n",
    "<hr>"
   ]
  },
  {
   "cell_type": "markdown",
   "id": "099ee309",
   "metadata": {},
   "source": [
    "> <center><h3 style=\"font-family:Lucida Console\">Capítulo 4 (Pt.3)</h3></center>"
   ]
  },
  {
   "cell_type": "markdown",
   "id": "0fe14147",
   "metadata": {},
   "source": [
    "<div style=\"display: flex; justify-content: center; gap: 10px;\">\n",
    "  <img src=\"https://raw.githubusercontent.com/Felipe-SSS/C11/main/images/Cap4_Exercicios_3.png\" title=\"Exercícios (Parte 3)\" width=\"600\"/>\n",
    "</div>"
   ]
  },
  {
   "cell_type": "markdown",
   "id": "8bef96bf",
   "metadata": {},
   "source": [
    "> <h4 style=\"font-family:Lucida Console\">Exercício 1</h4>"
   ]
  },
  {
   "cell_type": "code",
   "execution_count": 3,
   "id": "e17b5267",
   "metadata": {},
   "outputs": [],
   "source": [
    "import numpy as np"
   ]
  },
  {
   "cell_type": "code",
   "execution_count": 4,
   "id": "c1161cd6",
   "metadata": {},
   "outputs": [],
   "source": [
    "dataset_np = np.loadtxt('https://raw.githubusercontent.com/Felipe-SSS/C11/main/datasets/space.csv', delimiter=';', dtype='str', encoding='utf-8')"
   ]
  },
  {
   "cell_type": "code",
   "execution_count": 19,
   "id": "3e843364",
   "metadata": {},
   "outputs": [
    {
     "name": "stdout",
     "output_type": "stream",
     "text": [
      "Percentage of successfull missions: 89.68786127167631%\n"
     ]
    }
   ],
   "source": [
    "status = dataset_np[:, -1]\n",
    "total = status.size\n",
    "\n",
    "success = np.sum(status == 'Success')\n",
    "failures = np.sum(status == 'Failure')\n",
    "\n",
    "success_pctg = success / total * 100\n",
    "\n",
    "print(f'Percentage of successfull missions: {success_pctg}%')"
   ]
  },
  {
   "cell_type": "markdown",
   "id": "ef929326",
   "metadata": {},
   "source": [
    "> <h4 style=\"font-family:Lucida Console\">Exercício 2</h4>"
   ]
  },
  {
   "cell_type": "code",
   "execution_count": 24,
   "id": "3f4ea489",
   "metadata": {},
   "outputs": [],
   "source": [
    "costs = dataset_np[1:, -2]\n",
    "float_costs = costs.astype(float)"
   ]
  },
  {
   "cell_type": "code",
   "execution_count": null,
   "id": "43c9a5de",
   "metadata": {},
   "outputs": [
    {
     "name": "stdout",
     "output_type": "stream",
     "text": [
      "964\n",
      "(964,)\n"
     ]
    }
   ],
   "source": [
    "costs_reduced = float_costs[float_costs > 0]"
   ]
  },
  {
   "cell_type": "code",
   "execution_count": 47,
   "id": "bcd7a2ec",
   "metadata": {},
   "outputs": [
    {
     "name": "stdout",
     "output_type": "stream",
     "text": [
      "Average cost of missions: 153.7921991701245\n"
     ]
    }
   ],
   "source": [
    "average = costs_reduced.mean()\n",
    "print(f'Average cost of missions: {average}')"
   ]
  },
  {
   "cell_type": "markdown",
   "id": "8cf96104",
   "metadata": {},
   "source": [
    "> <h4 style=\"font-family:Lucida Console\">Exercício 3</h4>"
   ]
  },
  {
   "cell_type": "code",
   "execution_count": 46,
   "id": "5b28683f",
   "metadata": {},
   "outputs": [
    {
     "name": "stdout",
     "output_type": "stream",
     "text": [
      "Index(['Num', 'Company Name', 'Location', 'Datum', 'Detail', 'Status Rocket',\n",
      "       ' Cost', 'Status Mission'],\n",
      "      dtype='object')\n"
     ]
    }
   ],
   "source": [
    "import pandas as pd\n",
    "\n",
    "pd_dts = pd.read_csv('https://raw.githubusercontent.com/Felipe-SSS/C11/main/datasets/space.csv', delimiter=';', on_bad_lines='skip', engine='python')\n",
    "print(pd_dts.columns)"
   ]
  },
  {
   "cell_type": "code",
   "execution_count": null,
   "id": "1f5a8e21",
   "metadata": {},
   "outputs": [
    {
     "name": "stdout",
     "output_type": "stream",
     "text": [
      "['SpaceX' 'CASC' 'Roscosmos' 'ULA' 'JAXA' 'Northrop' 'ExPace' 'IAI'\n",
      " 'Rocket Lab' 'Virgin Orbit' 'VKS RF' 'MHI' 'IRGC' 'Arianespace' 'ISA'\n",
      " 'Blue Origin' 'ISRO' 'Exos' 'ILS' 'i-Space' 'OneSpace' 'Landspace'\n",
      " 'Eurockot' 'Land Launch' 'CASIC' 'KCST' 'Sandia' 'Kosmotras' 'Khrunichev'\n",
      " 'Sea Launch' 'KARI' 'ESA' 'NASA' 'Boeing' 'ISAS' 'SRC' 'MITT' 'Lockheed'\n",
      " 'AEB' 'Starsem' 'RVSN USSR' 'EER' 'General Dynamics' 'Martin Marietta'\n",
      " 'Yuzhmash' 'Douglas' 'ASI' 'US Air Force' 'CNES' 'CECLES' 'RAE' 'UT'\n",
      " 'OKB-586' 'AMBA' \"Arm??e de l'Air\" 'US Navy']\n"
     ]
    }
   ],
   "source": [
    "print(pd_dts[\"Company Name\"].unique())"
   ]
  },
  {
   "cell_type": "code",
   "execution_count": 41,
   "id": "2251fea2",
   "metadata": {},
   "outputs": [],
   "source": [
    "companies = dataset_np[:, 1]"
   ]
  },
  {
   "cell_type": "code",
   "execution_count": 48,
   "id": "baf89903",
   "metadata": {},
   "outputs": [
    {
     "name": "stdout",
     "output_type": "stream",
     "text": [
      "Total of US missions: 17\n"
     ]
    }
   ],
   "source": [
    "us_missions = companies[companies == 'US Navy'].size\n",
    "print(f'Total of US missions: {us_missions}')"
   ]
  },
  {
   "cell_type": "markdown",
   "id": "20e7cf5a",
   "metadata": {},
   "source": [
    "> <h4 style=\"font-family:Lucida Console\">Exercício 4</h4>"
   ]
  },
  {
   "cell_type": "code",
   "execution_count": null,
   "id": "259e8a05",
   "metadata": {},
   "outputs": [],
   "source": [
    "# Insira o código do exercício 4 aqui"
   ]
  },
  {
   "cell_type": "markdown",
   "id": "75c26247",
   "metadata": {},
   "source": [
    "> <h4 style=\"font-family:Lucida Console\">Exercício 5</h4>"
   ]
  },
  {
   "cell_type": "code",
   "execution_count": null,
   "id": "87e394cc",
   "metadata": {},
   "outputs": [],
   "source": [
    "# Insira o código do exercício 5 aqui"
   ]
  },
  {
   "cell_type": "markdown",
   "id": "94b521e3",
   "metadata": {},
   "source": [
    "> <h4 style=\"font-family:Lucida Console\">Exercício 6</h4>"
   ]
  },
  {
   "cell_type": "code",
   "execution_count": null,
   "id": "9ad2c168",
   "metadata": {},
   "outputs": [],
   "source": [
    "# Insira o código do exercício 6 aqui"
   ]
  }
 ],
 "metadata": {
  "kernelspec": {
   "display_name": "Python 3",
   "language": "python",
   "name": "python3"
  },
  "language_info": {
   "codemirror_mode": {
    "name": "ipython",
    "version": 3
   },
   "file_extension": ".py",
   "mimetype": "text/x-python",
   "name": "python",
   "nbconvert_exporter": "python",
   "pygments_lexer": "ipython3",
   "version": "3.11.9"
  }
 },
 "nbformat": 4,
 "nbformat_minor": 5
}
