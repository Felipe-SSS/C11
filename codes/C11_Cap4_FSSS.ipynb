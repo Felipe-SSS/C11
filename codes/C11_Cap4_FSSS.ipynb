{
 "cells": [
  {
   "cell_type": "markdown",
   "id": "fabf4fdb",
   "metadata": {},
   "source": [
    "<center><img src=\"https://www.python.org/static/img/python-logo.png\" title=\"Python Logo\"/></center>"
   ]
  },
  {
   "cell_type": "markdown",
   "id": "4805f901",
   "metadata": {},
   "source": [
    "<blockquote>\n",
    "<center><h2 style=\"font-family:Lucida Console\">Ciência de Dados com Python</h2></center>\n",
    "</blockquote>\n",
    "\n",
    "```python \n",
    "print('Felipe Soares dos Santos Silveira, GES | 2025.2')\n",
    "```\n",
    "\n",
    "<hr>"
   ]
  },
  {
   "cell_type": "markdown",
   "id": "099ee309",
   "metadata": {},
   "source": [
    "> <center><h3 style=\"font-family:Lucida Console\">Capítulo 4</h3></center>"
   ]
  },
  {
   "cell_type": "markdown",
   "id": "0fe14147",
   "metadata": {},
   "source": [
    "<div style=\"display: flex; justify-content: center; gap: 10px;\">\n",
    "  <img src=\"https://raw.githubusercontent.com/Felipe-SSS/C11/main/images/Cap4_Exercicios_1.png\" title=\"Exercícios (Parte 1)\" width=\"600\"/>\n",
    "  <img src=\"https://raw.githubusercontent.com/Felipe-SSS/C11/main/images/Cap4_Exercicios_2.png\" title=\"Exercícios (Parte 2)\" width=\"607\"/>\n",
    "</div>"
   ]
  },
  {
   "cell_type": "markdown",
   "id": "8bef96bf",
   "metadata": {},
   "source": [
    "> <h4 style=\"font-family:Lucida Console\">Exercício 1</h4>"
   ]
  },
  {
   "cell_type": "code",
   "execution_count": null,
   "id": "21d312df",
   "metadata": {},
   "outputs": [
    {
     "data": {
      "text/plain": [
       "array([ 9,  9,  9,  9,  1,  9, 10,  3], dtype=int64)"
      ]
     },
     "execution_count": 38,
     "metadata": {},
     "output_type": "execute_result"
    }
   ],
   "source": [
    "import numpy as np\n",
    "\n",
    "array_1s = np.ones(8, dtype=int)\n",
    "\n",
    "random = np.random.default_rng(13)\n",
    "array_0a9 = random.integers(low=0, high=10, size=8)\n",
    "\n",
    "array_soma = array_1s + array_0a9\n",
    "\n",
    "array_soma"
   ]
  },
  {
   "cell_type": "code",
   "execution_count": 36,
   "id": "b3312a44",
   "metadata": {},
   "outputs": [
    {
     "data": {
      "text/plain": [
       "array([[ 9,  9],\n",
       "       [ 9,  9],\n",
       "       [ 1,  9],\n",
       "       [10,  3]], dtype=int64)"
      ]
     },
     "execution_count": 36,
     "metadata": {},
     "output_type": "execute_result"
    }
   ],
   "source": [
    "if array_soma.sum() >= 40:\n",
    "    array_soma = array_soma.reshape(4,2)\n",
    "else:\n",
    "    array_soma = array_soma.reshape(2,4)\n",
    "\n",
    "array_soma"
   ]
  },
  {
   "cell_type": "markdown",
   "id": "ef929326",
   "metadata": {},
   "source": [
    "> <h4 style=\"font-family:Lucida Console\">Exercício 2</h4>"
   ]
  },
  {
   "cell_type": "code",
   "execution_count": 41,
   "id": "3f4ea489",
   "metadata": {},
   "outputs": [],
   "source": [
    "import numpy as np\n",
    "\n",
    "pares_0_ate_50 = np.arange(0, 51, 2, dtype=int)\n",
    "pares_100_ate_50 = np.arange(100, 50, -2, dtype=int)\n",
    "\n",
    "concatenadas = np.concatenate((pares_0_ate_50, pares_100_ate_50))"
   ]
  },
  {
   "cell_type": "code",
   "execution_count": 44,
   "id": "e67f445b",
   "metadata": {},
   "outputs": [
    {
     "data": {
      "text/plain": [
       "array([  0,   2,   4,   6,   8,  10,  12,  14,  16,  18,  20,  22,  24,\n",
       "        26,  28,  30,  32,  34,  36,  38,  40,  42,  44,  46,  48,  50,\n",
       "        52,  54,  56,  58,  60,  62,  64,  66,  68,  70,  72,  74,  76,\n",
       "        78,  80,  82,  84,  86,  88,  90,  92,  94,  96,  98, 100])"
      ]
     },
     "execution_count": 44,
     "metadata": {},
     "output_type": "execute_result"
    }
   ],
   "source": [
    "concatenadas.sort()\n",
    "concatenadas"
   ]
  },
  {
   "cell_type": "markdown",
   "id": "8cf96104",
   "metadata": {},
   "source": [
    "> <h4 style=\"font-family:Lucida Console\">Exercício 3</h4>"
   ]
  },
  {
   "cell_type": "code",
   "execution_count": 62,
   "id": "5b28683f",
   "metadata": {},
   "outputs": [],
   "source": [
    "import numpy as np\n",
    "\n",
    "field = np.zeros(shape=(2,2), dtype=int)"
   ]
  },
  {
   "cell_type": "code",
   "execution_count": 63,
   "id": "9654f2a8",
   "metadata": {},
   "outputs": [
    {
     "data": {
      "text/plain": [
       "array([[1, 0],\n",
       "       [0, 0]])"
      ]
     },
     "execution_count": 63,
     "metadata": {},
     "output_type": "execute_result"
    }
   ],
   "source": [
    "rand_row = np.random.randint(field.shape[0])\n",
    "rand_col = np.random.randint(field.shape[1])\n",
    "\n",
    "field[rand_row][rand_col] = 1\n",
    "\n",
    "field"
   ]
  },
  {
   "cell_type": "code",
   "execution_count": 73,
   "id": "f90b40af",
   "metadata": {},
   "outputs": [],
   "source": [
    "flag = True\n",
    "count = 0"
   ]
  },
  {
   "cell_type": "code",
   "execution_count": 74,
   "id": "f15f6022",
   "metadata": {},
   "outputs": [
    {
     "name": "stdout",
     "output_type": "stream",
     "text": [
      "Congratulations! You beat the game! :)\n"
     ]
    }
   ],
   "source": [
    "while flag and count < 3:\n",
    "    \n",
    "    row = int(input(\"Insira a linha alvo: \"))\n",
    "    col = int(input(\"Insira a coluna alvo: \"))\n",
    "    \n",
    "    count += 1\n",
    "    \n",
    "    if field[row][col] == 1:\n",
    "        print(\"Game over! :( Try again!\")\n",
    "        flag = False\n",
    "\n",
    "if count == 3:\n",
    "    print(\"Congratulations! You beat the game! :)\")"
   ]
  },
  {
   "cell_type": "markdown",
   "id": "20e7cf5a",
   "metadata": {},
   "source": [
    "> <h4 style=\"font-family:Lucida Console\">Exercício 4</h4>"
   ]
  },
  {
   "cell_type": "code",
   "execution_count": 98,
   "id": "259e8a05",
   "metadata": {},
   "outputs": [],
   "source": [
    "import numpy as np\n",
    "\n",
    "np.random.seed(700)\n",
    "\n",
    "rand_rows = np.random.randint(low=1, high=10)\n",
    "rand_cols = np.random.randint(low=1, high=10)\n",
    "\n",
    "array = np.zeros(shape=(rand_rows, rand_cols))"
   ]
  },
  {
   "cell_type": "code",
   "execution_count": 101,
   "id": "6a6a11fc",
   "metadata": {},
   "outputs": [],
   "source": [
    "soma = array.shape[0] * array.shape[1]"
   ]
  },
  {
   "cell_type": "code",
   "execution_count": 102,
   "id": "61b54cd2",
   "metadata": {},
   "outputs": [
    {
     "name": "stdout",
     "output_type": "stream",
     "text": [
      "Unidimensional com número par de elementos.\n"
     ]
    }
   ],
   "source": [
    "if soma % 2 == 0:\n",
    "    print(\"Unidimensional com número par de elementos.\")\n",
    "else:\n",
    "    print(\"Unidimensional com número ímpar de elementos.\")"
   ]
  },
  {
   "cell_type": "markdown",
   "id": "75c26247",
   "metadata": {},
   "source": [
    "> <h4 style=\"font-family:Lucida Console\">Exercício 5</h4>"
   ]
  },
  {
   "cell_type": "code",
   "execution_count": null,
   "id": "87e394cc",
   "metadata": {},
   "outputs": [],
   "source": [
    "import numpy as np\n",
    "np.random.seed(10)\n",
    "random_values = np.random.randint(low=1, high=50, size=(4,4))   "
   ]
  },
  {
   "cell_type": "code",
   "execution_count": 121,
   "id": "5fb4c622",
   "metadata": {},
   "outputs": [
    {
     "name": "stdout",
     "output_type": "stream",
     "text": [
      "25.25\n",
      "34.25\n",
      "11.25\n",
      "19.25\n",
      "34.25\n"
     ]
    }
   ],
   "source": [
    "row_means = np.zeros(shape=4)\n",
    "for i in range(random_values.shape[0]):\n",
    "    row_means[i] = random_values[i, :].mean()\n",
    "    print(row_means[i])\n",
    "\n",
    "print(row_means.max())"
   ]
  },
  {
   "cell_type": "code",
   "execution_count": 116,
   "id": "df783bba",
   "metadata": {},
   "outputs": [
    {
     "name": "stdout",
     "output_type": "stream",
     "text": [
      "22.0\n",
      "22.0\n",
      "27.25\n",
      "18.75\n",
      "27.25\n"
     ]
    }
   ],
   "source": [
    "col_means = np.zeros(shape=4)\n",
    "for j in range(random_values.shape[1]):\n",
    "    col_means[j] = random_values[:, j].mean()\n",
    "    print(col_means[j])\n",
    "    \n",
    "print(col_means.max())"
   ]
  },
  {
   "cell_type": "code",
   "execution_count": 127,
   "id": "7d8241b1",
   "metadata": {},
   "outputs": [
    {
     "name": "stdout",
     "output_type": "stream",
     "text": [
      "[ 9 17]\n"
     ]
    }
   ],
   "source": [
    "unique, counts = np.unique(random_values, return_counts=True)\n",
    "\n",
    "result = unique[counts == 2]\n",
    "\n",
    "print(result)"
   ]
  }
 ],
 "metadata": {
  "kernelspec": {
   "display_name": "Python 3",
   "language": "python",
   "name": "python3"
  },
  "language_info": {
   "codemirror_mode": {
    "name": "ipython",
    "version": 3
   },
   "file_extension": ".py",
   "mimetype": "text/x-python",
   "name": "python",
   "nbconvert_exporter": "python",
   "pygments_lexer": "ipython3",
   "version": "3.11.9"
  }
 },
 "nbformat": 4,
 "nbformat_minor": 5
}
