{
 "cells": [
  {
   "cell_type": "markdown",
   "id": "4712fe57",
   "metadata": {},
   "source": [
    "<center><img src=\"https://www.python.org/static/img/python-logo.png\" title=\"Python Logo\"/></center>"
   ]
  },
  {
   "cell_type": "markdown",
   "id": "e802fef7",
   "metadata": {},
   "source": [
    "<blockquote>\n",
    "<center><h2 style=\"font-family:Lucida Console\">Ciência de Dados com Python</h2></center>\n",
    "</blockquote>\n",
    "\n",
    "```python \n",
    "print('Felipe Soares dos Santos Silveira, GES | 2025.2')\n",
    "```\n",
    "\n",
    "<hr>"
   ]
  },
  {
   "cell_type": "markdown",
   "id": "749680ee",
   "metadata": {},
   "source": [
    "> <center><h3 style=\"font-family:Lucida Console\">Capítulo 2</h3></center>"
   ]
  },
  {
   "cell_type": "markdown",
   "id": "e72ebed0",
   "metadata": {},
   "source": [
    "\n",
    "<center>\n",
    "<img src='https://raw.githubusercontent.com/Felipe-SSS/C11/main/images/Cap2_Exercicios_1.png' title='Exercícios (Parte 1)' width='600'/>\n",
    "<img src='https://raw.githubusercontent.com/Felipe-SSS/C11/main/images/Cap2_Exercicios_2.png' title='Exercícios (Parte 1)' width='607'/>\n",
    "</center>\n"
   ]
  },
  {
   "cell_type": "markdown",
   "id": "4b4ef601",
   "metadata": {},
   "source": [
    "> <h4 style=\"font-family:Lucida Console\">Exercício 1</h4>"
   ]
  },
  {
   "cell_type": "code",
   "execution_count": 43,
   "id": "39671cb5",
   "metadata": {},
   "outputs": [
    {
     "name": "stdout",
     "output_type": "stream",
     "text": [
      "Digite seu nome:\n"
     ]
    }
   ],
   "source": [
    "print('Digite seu nome:')\n",
    "#name = input()\n",
    "name = 'Felipe Soares dos S Silveira'"
   ]
  },
  {
   "cell_type": "code",
   "execution_count": 26,
   "id": "4bce9f1d",
   "metadata": {},
   "outputs": [
    {
     "name": "stdout",
     "output_type": "stream",
     "text": [
      "Nome maiúsculo: FELIPE SOARES DOS S SILVEIRA\n"
     ]
    }
   ],
   "source": [
    "print(f'Nome maiúsculo: {name.upper()}')"
   ]
  },
  {
   "cell_type": "code",
   "execution_count": 27,
   "id": "d09859f0",
   "metadata": {},
   "outputs": [
    {
     "name": "stdout",
     "output_type": "stream",
     "text": [
      "Nome minúsculo: felipe soares dos s silveira\n"
     ]
    }
   ],
   "source": [
    "print(f'Nome minúsculo: {name.lower()}')"
   ]
  },
  {
   "cell_type": "code",
   "execution_count": 28,
   "id": "56a3617d",
   "metadata": {},
   "outputs": [
    {
     "name": "stdout",
     "output_type": "stream",
     "text": [
      "Total de letras: 28\n"
     ]
    }
   ],
   "source": [
    "print(f'Total de letras: {len(name)}')"
   ]
  },
  {
   "cell_type": "code",
   "execution_count": 29,
   "id": "6cf2374d",
   "metadata": {},
   "outputs": [
    {
     "data": {
      "text/plain": [
       "5"
      ]
     },
     "execution_count": 29,
     "metadata": {},
     "output_type": "execute_result"
    }
   ],
   "source": [
    "name_split = name.split(' ')\n",
    "len(name_split)"
   ]
  },
  {
   "cell_type": "code",
   "execution_count": 30,
   "id": "94d36a1c",
   "metadata": {},
   "outputs": [
    {
     "name": "stdout",
     "output_type": "stream",
     "text": [
      "Nome do Inatel: Felipe Soares dos S do Inatel\n"
     ]
    }
   ],
   "source": [
    "name_split[-1] = 'do Inatel'\n",
    "name_inatel = ' '.join(name_split)\n",
    "print(f'Nome do Inatel: {name_inatel}')"
   ]
  },
  {
   "cell_type": "markdown",
   "id": "65f52f74",
   "metadata": {},
   "source": [
    "> <h4 style=\"font-family:Lucida Console\">Exercício 2</h4>"
   ]
  },
  {
   "cell_type": "code",
   "execution_count": 32,
   "id": "588ee715",
   "metadata": {},
   "outputs": [
    {
     "name": "stdout",
     "output_type": "stream",
     "text": [
      "2 * 1 = 2\n",
      "2 * 2 = 4\n",
      "2 * 3 = 6\n",
      "2 * 4 = 8\n",
      "2 * 5 = 10\n"
     ]
    }
   ],
   "source": [
    "#num_entrada = input()\n",
    "#final_tabuada = input()\n",
    "\n",
    "num_entrada = 2\n",
    "final_tabuada = 5\n",
    "\n",
    "for value in range(1, final_tabuada+1):\n",
    "    print(f'{num_entrada} * {value} = {num_entrada*value}')"
   ]
  },
  {
   "cell_type": "markdown",
   "id": "d9066133",
   "metadata": {},
   "source": [
    "> <h4 style=\"font-family:Lucida Console\">Exercício 3</h4>"
   ]
  },
  {
   "cell_type": "code",
   "execution_count": 45,
   "id": "2ce21669",
   "metadata": {},
   "outputs": [
    {
     "name": "stdout",
     "output_type": "stream",
     "text": [
      "Insira o seu sexo (M ou F):\n",
      "Seu sexo é: Feminino\n"
     ]
    }
   ],
   "source": [
    "possiveis_sexos = {'M': 'Masculino', 'F': 'Feminino'}\n",
    "\n",
    "print('Insira o seu sexo (M ou F):')\n",
    "#sexo_entrada = input()\n",
    "sexo_entrada = 'F'\n",
    "\n",
    "\n",
    "while sexo_entrada not in possiveis_sexos:\n",
    "    print('Valor inválido!\\n')    \n",
    "    print('Insira o seu sexo (M ou F):')\n",
    "    #sexo_entrada = input()\n",
    "\n",
    "print(f'Seu sexo é: {possiveis_sexos[sexo_entrada]}')"
   ]
  },
  {
   "cell_type": "markdown",
   "id": "e2e36af2",
   "metadata": {},
   "source": [
    "> <h4 style=\"font-family:Lucida Console\">Exercício 4</h4>"
   ]
  },
  {
   "cell_type": "code",
   "execution_count": 48,
   "id": "856c2a6e",
   "metadata": {},
   "outputs": [
    {
     "name": "stdout",
     "output_type": "stream",
     "text": [
      "Insira a distância percorrida em Km:\n",
      "Preço da passagem: R$90.0\n"
     ]
    }
   ],
   "source": [
    "print('Insira a distância percorrida em Km:')\n",
    "#distancia = input()\n",
    "distancia = 200\n",
    "\n",
    "if distancia < 200 and distancia > 0:\n",
    "    valor_Km = 0.5\n",
    "    \n",
    "elif distancia >= 200:\n",
    "    valor_Km = 0.45\n",
    "    \n",
    "print(f'Preço da passagem: R${distancia*valor_Km}')"
   ]
  },
  {
   "cell_type": "markdown",
   "id": "2ada5ffe",
   "metadata": {},
   "source": [
    "> <h4 style=\"font-family:Lucida Console\">Exercício 5</h4>"
   ]
  },
  {
   "cell_type": "code",
   "execution_count": 53,
   "id": "8a1302ed",
   "metadata": {},
   "outputs": [
    {
     "name": "stdout",
     "output_type": "stream",
     "text": [
      "Insira um número entre 1000 e 9999:\n",
      "\n",
      "Unidade: 9\n",
      "Dezena: 6\n",
      "Centena: 4\n",
      "Milhar: 2\n"
     ]
    }
   ],
   "source": [
    "print('Insira um número entre 1000 e 9999:')\n",
    "#num_entrada = input()\n",
    "num_entrada = 2469\n",
    "\n",
    "casas = list(str(num_entrada))\n",
    "\n",
    "print(f'\\nUnidade: {casas[-1]}')\n",
    "print(f'Dezena: {casas[-2]}')\n",
    "print(f'Centena: {casas[-3]}')\n",
    "print(f'Milhar: {casas[-4]}')"
   ]
  },
  {
   "cell_type": "markdown",
   "id": "18a31337",
   "metadata": {},
   "source": [
    "> <h4 style=\"font-family:Lucida Console\">Exercício 6</h4>"
   ]
  },
  {
   "cell_type": "code",
   "execution_count": 55,
   "id": "78347445",
   "metadata": {},
   "outputs": [
    {
     "name": "stdout",
     "output_type": "stream",
     "text": [
      "Entre com um número decimal:\n"
     ]
    }
   ],
   "source": [
    "print('Entre com um número decimal:')\n",
    "#decimal = input()\n",
    "decimal = 7.9"
   ]
  },
  {
   "cell_type": "code",
   "execution_count": 56,
   "id": "f3f2204c",
   "metadata": {},
   "outputs": [
    {
     "name": "stdout",
     "output_type": "stream",
     "text": [
      "Raiz quadrada: 2.8106938645110393\n"
     ]
    }
   ],
   "source": [
    "from math import sqrt\n",
    "print(f'Raiz quadrada: {sqrt(decimal)}')"
   ]
  },
  {
   "cell_type": "code",
   "execution_count": 57,
   "id": "e5580eb7",
   "metadata": {},
   "outputs": [
    {
     "name": "stdout",
     "output_type": "stream",
     "text": [
      "Teto: 8\n"
     ]
    }
   ],
   "source": [
    "from math import ceil\n",
    "print(f'Teto: {ceil(decimal)}')"
   ]
  },
  {
   "cell_type": "code",
   "execution_count": 58,
   "id": "87d93b38",
   "metadata": {},
   "outputs": [
    {
     "name": "stdout",
     "output_type": "stream",
     "text": [
      "Chão: 7\n"
     ]
    }
   ],
   "source": [
    "from math import floor\n",
    "print(f'Chão: {floor(decimal)}')"
   ]
  },
  {
   "cell_type": "code",
   "execution_count": 59,
   "id": "7f860a31",
   "metadata": {},
   "outputs": [
    {
     "name": "stdout",
     "output_type": "stream",
     "text": [
      "Inteira: 7\n"
     ]
    }
   ],
   "source": [
    "print(f'Inteira: {int(decimal)}')"
   ]
  }
 ],
 "metadata": {
  "kernelspec": {
   "display_name": "Python 3",
   "language": "python",
   "name": "python3"
  },
  "language_info": {
   "codemirror_mode": {
    "name": "ipython",
    "version": 3
   },
   "file_extension": ".py",
   "mimetype": "text/x-python",
   "name": "python",
   "nbconvert_exporter": "python",
   "pygments_lexer": "ipython3",
   "version": "3.11.9"
  }
 },
 "nbformat": 4,
 "nbformat_minor": 5
}
