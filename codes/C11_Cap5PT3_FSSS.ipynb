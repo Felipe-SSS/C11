{
 "cells": [
  {
   "cell_type": "markdown",
   "id": "fabf4fdb",
   "metadata": {},
   "source": [
    "<center><img src=\"https://www.python.org/static/img/python-logo.png\" title=\"Python Logo\"/></center>"
   ]
  },
  {
   "cell_type": "markdown",
   "id": "4805f901",
   "metadata": {},
   "source": [
    "<blockquote>\n",
    "<center><h2 style=\"font-family:Lucida Console\">Ciência de Dados com Python</h2></center>\n",
    "</blockquote>\n",
    "\n",
    "```python \n",
    "print('Felipe Soares dos Santos Silveira, GES | 2025.2')\n",
    "```\n",
    "\n",
    "<hr>"
   ]
  },
  {
   "cell_type": "markdown",
   "id": "099ee309",
   "metadata": {},
   "source": [
    "> <center><h3 style=\"font-family:Lucida Console\">Capítulo 5</h3></center>"
   ]
  },
  {
   "cell_type": "markdown",
   "id": "0fe14147",
   "metadata": {},
   "source": [
    "<div style=\"display: flex; justify-content: center; gap: 10px;\">\n",
    "  <img src=\"https://raw.githubusercontent.com/Felipe-SSS/C11/main/images/Cap5_Exercicios_3.png\" title=\"Exercícios (Parte 3)\" width=\"600\"/>\n",
    "</div>"
   ]
  },
  {
   "cell_type": "markdown",
   "id": "8bef96bf",
   "metadata": {},
   "source": [
    "> <h4 style=\"font-family:Lucida Console\">Exercício 1</h4>"
   ]
  },
  {
   "cell_type": "code",
   "execution_count": 2,
   "id": "21d312df",
   "metadata": {},
   "outputs": [],
   "source": [
    "import pandas as pd\n",
    "\n",
    "dfPaises = pd.read_csv('../datasets/paises.csv', delimiter=';')"
   ]
  },
  {
   "cell_type": "code",
   "execution_count": 3,
   "id": "3d545f6b",
   "metadata": {},
   "outputs": [
    {
     "name": "stdout",
     "output_type": "stream",
     "text": [
      "             Country                               Region  Population  \\\n",
      "0       Afghanistan         ASIA (EX. NEAR EAST)             31056997   \n",
      "1           Albania   EASTERN EUROPE                          3581655   \n",
      "2           Algeria   NORTHERN AFRICA                        32930091   \n",
      "3    American Samoa   OCEANIA                                   57794   \n",
      "4           Andorra   WESTERN EUROPE                            71201   \n",
      "..               ...                                  ...         ...   \n",
      "222       West Bank   NEAR EAST                               2460492   \n",
      "223  Western Sahara   NORTHERN AFRICA                          273008   \n",
      "224           Yemen   NEAR EAST                              21456188   \n",
      "225          Zambia   SUB-SAHARAN AFRICA                     11502010   \n",
      "226        Zimbabwe   SUB-SAHARAN AFRICA                     12236805   \n",
      "\n",
      "     Area (sq. mi.)  Pop. Density (per sq. mi.)  Coastline (coast/area ratio)  \\\n",
      "0            647500                        48.0                          0.00   \n",
      "1             28748                       124.6                          1.26   \n",
      "2           2381740                        13.8                          0.04   \n",
      "3               199                       290.4                         58.29   \n",
      "4               468                       152.1                          0.00   \n",
      "..              ...                         ...                           ...   \n",
      "222            5860                       419.9                          0.00   \n",
      "223          266000                         1.0                          0.42   \n",
      "224          527970                        40.6                          0.36   \n",
      "225          752614                        15.3                          0.00   \n",
      "226          390580                        31.3                          0.00   \n",
      "\n",
      "     Net migration  Infant mortality (per 1000 births)  GDP ($ per capita)  \\\n",
      "0            23.06                              163.07                 700   \n",
      "1            -4.93                               21.52                4500   \n",
      "2            -0.39                               31.00                6000   \n",
      "3           -20.71                                9.27                8000   \n",
      "4             6.60                                4.05               19000   \n",
      "..             ...                                 ...                 ...   \n",
      "222           2.98                               19.62                 800   \n",
      "223           0.00                                0.00                   0   \n",
      "224           0.00                               61.50                 800   \n",
      "225           0.00                               88.29                 800   \n",
      "226           0.00                               67.69                1900   \n",
      "\n",
      "     Literacy (%)  Phones (per 1000)  Arable (%)  Crops (%)  Other (%)  \\\n",
      "0            36.0                3.2       12.13       0.22      87.65   \n",
      "1            86.5               71.2       21.09       4.42      74.49   \n",
      "2            70.0               78.1        3.22       0.25      96.53   \n",
      "3            97.0              259.5       10.00      15.00      75.00   \n",
      "4           100.0              497.2        2.22       0.00      97.78   \n",
      "..            ...                ...         ...        ...        ...   \n",
      "222           0.0              145.2       16.90      18.97      64.13   \n",
      "223           0.0                0.0        0.02       0.00      99.98   \n",
      "224          50.2               37.2        2.78       0.24      96.98   \n",
      "225          80.6                8.2        7.08       0.03      92.90   \n",
      "226          90.7               26.8        8.32       0.34      91.34   \n",
      "\n",
      "     Climate  Birthrate  Deathrate  Agriculture  Industry  Service  \n",
      "0        1.0      46.60      20.34        0.380     0.240    0.380  \n",
      "1        3.0      15.11       5.22        0.232     0.188    0.579  \n",
      "2        1.0      17.14       4.61        0.101     0.600    0.298  \n",
      "3        2.0      22.46       3.27        0.000     0.000    0.000  \n",
      "4        3.0       8.71       6.25        0.000     0.000    0.000  \n",
      "..       ...        ...        ...          ...       ...      ...  \n",
      "222      3.0      31.67       3.92        0.090     0.280    0.630  \n",
      "223      1.0       0.00       0.00        0.000     0.000    0.400  \n",
      "224      1.0      42.89       8.30        0.135     0.472    0.393  \n",
      "225      2.0      41.00      19.93        0.220     0.290    0.489  \n",
      "226      2.0      28.01      21.84        0.179     0.243    0.579  \n",
      "\n",
      "[227 rows x 20 columns]\n"
     ]
    }
   ],
   "source": [
    "print(dfPaises)"
   ]
  },
  {
   "cell_type": "code",
   "execution_count": 4,
   "id": "40b80db0",
   "metadata": {},
   "outputs": [
    {
     "name": "stdout",
     "output_type": "stream",
     "text": [
      "Index(['Country', 'Region', 'Population', 'Area (sq. mi.)',\n",
      "       'Pop. Density (per sq. mi.)', 'Coastline (coast/area ratio)',\n",
      "       'Net migration', 'Infant mortality (per 1000 births)',\n",
      "       'GDP ($ per capita)', 'Literacy (%)', 'Phones (per 1000)', 'Arable (%)',\n",
      "       'Crops (%)', 'Other (%)', 'Climate', 'Birthrate', 'Deathrate',\n",
      "       'Agriculture', 'Industry', 'Service'],\n",
      "      dtype='object')\n"
     ]
    }
   ],
   "source": [
    "print(dfPaises.columns)"
   ]
  },
  {
   "cell_type": "code",
   "execution_count": 28,
   "id": "6d380754",
   "metadata": {},
   "outputs": [
    {
     "name": "stdout",
     "output_type": "stream",
     "text": [
      "['American Samoa ', 'Australia ', 'Cook Islands ', 'Fiji ', 'French Polynesia ', 'Guam ', 'Kiribati ', 'Marshall Islands ', 'Micronesia, Fed. St. ', 'Nauru ', 'New Caledonia ', 'New Zealand ', 'N. Mariana Islands ', 'Palau ', 'Papua New Guinea ', 'Samoa ', 'Solomon Islands ', 'Tonga ', 'Tuvalu ', 'Vanuatu ', 'Wallis and Futuna ']\n"
     ]
    }
   ],
   "source": [
    "paises_oceania = dfPaises.loc[dfPaises[\"Region\"].str.contains('OCEANIA'), \"Country\"] .tolist()\n",
    "print(paises_oceania)"
   ]
  },
  {
   "cell_type": "code",
   "execution_count": 29,
   "id": "dd15f1bd",
   "metadata": {},
   "outputs": [
    {
     "name": "stdout",
     "output_type": "stream",
     "text": [
      "21\n"
     ]
    }
   ],
   "source": [
    "print(len(paises_oceania))"
   ]
  },
  {
   "cell_type": "markdown",
   "id": "ef929326",
   "metadata": {},
   "source": [
    "> <h4 style=\"font-family:Lucida Console\">Exercício 2</h4>"
   ]
  },
  {
   "cell_type": "code",
   "execution_count": 37,
   "id": "3f4ea489",
   "metadata": {},
   "outputs": [
    {
     "name": "stdout",
     "output_type": "stream",
     "text": [
      "   Country                         Region\n",
      "42  China   ASIA (EX. NEAR EAST)         \n"
     ]
    }
   ],
   "source": [
    "maior_populacao = dfPaises.nlargest(1, \"Population\")[[\"Country\", \"Region\"]]\n",
    "print(maior_populacao)"
   ]
  },
  {
   "cell_type": "markdown",
   "id": "8cf96104",
   "metadata": {},
   "source": [
    "> <h4 style=\"font-family:Lucida Console\">Exercício 3</h4>"
   ]
  },
  {
   "cell_type": "code",
   "execution_count": null,
   "id": "5b28683f",
   "metadata": {},
   "outputs": [],
   "source": [
    "group_regions = dfPaises.groupby('Region')"
   ]
  },
  {
   "cell_type": "code",
   "execution_count": 40,
   "id": "58fc5d3b",
   "metadata": {},
   "outputs": [
    {
     "name": "stdout",
     "output_type": "stream",
     "text": [
      "Region\n",
      "ASIA (EX. NEAR EAST)                   79.553571\n",
      "BALTICS                                99.733333\n",
      "C.W. OF IND. STATES                    98.725000\n",
      "EASTERN EUROPE                         72.816667\n",
      "LATIN AMER. & CARIB                    88.640000\n",
      "NEAR EAST                              69.581250\n",
      "NORTHERN AFRICA                        56.033333\n",
      "NORTHERN AMERICA                       78.200000\n",
      "OCEANIA                                71.914286\n",
      "SUB-SAHARAN AFRICA                     61.284314\n",
      "WESTERN EUROPE                         80.821429\n",
      "Name: Literacy (%), dtype: float64\n"
     ]
    }
   ],
   "source": [
    "print(group_regions['Literacy (%)'].mean())"
   ]
  },
  {
   "cell_type": "markdown",
   "id": "20e7cf5a",
   "metadata": {},
   "source": [
    "> <h4 style=\"font-family:Lucida Console\">Exercício 4</h4>"
   ]
  },
  {
   "cell_type": "code",
   "execution_count": null,
   "id": "259e8a05",
   "metadata": {},
   "outputs": [],
   "source": [
    "no_coast = dfPaises[dfPaises['Coastline (coast/area ratio)'] == 0]"
   ]
  },
  {
   "cell_type": "code",
   "execution_count": 43,
   "id": "64e83758",
   "metadata": {},
   "outputs": [],
   "source": [
    "no_coast.to_csv('../datasets/noCoast.csv', sep=';')"
   ]
  },
  {
   "cell_type": "markdown",
   "id": "75c26247",
   "metadata": {},
   "source": [
    "> <h4 style=\"font-family:Lucida Console\">Exercício 5</h4>"
   ]
  },
  {
   "cell_type": "code",
   "execution_count": 45,
   "id": "87e394cc",
   "metadata": {},
   "outputs": [],
   "source": [
    "import numpy as np\n",
    "\n",
    "def labelHumanitarianHelp(deathRates):\n",
    "    \n",
    "    return pd.Series(np.where(deathRates < 9, \"Balanced\", \"Urgent\"))\n"
   ]
  },
  {
   "cell_type": "code",
   "execution_count": 46,
   "id": "2e440fc6",
   "metadata": {},
   "outputs": [],
   "source": [
    "humaniratial_help = labelHumanitarianHelp(dfPaises['Deathrate'])"
   ]
  },
  {
   "cell_type": "code",
   "execution_count": 48,
   "id": "5a47ec75",
   "metadata": {},
   "outputs": [],
   "source": [
    "dfPaises[\"Humanitarian_Help\"] = humaniratial_help"
   ]
  },
  {
   "cell_type": "code",
   "execution_count": 49,
   "id": "a53bf442",
   "metadata": {},
   "outputs": [
    {
     "data": {
      "text/html": [
       "<div>\n",
       "<style scoped>\n",
       "    .dataframe tbody tr th:only-of-type {\n",
       "        vertical-align: middle;\n",
       "    }\n",
       "\n",
       "    .dataframe tbody tr th {\n",
       "        vertical-align: top;\n",
       "    }\n",
       "\n",
       "    .dataframe thead th {\n",
       "        text-align: right;\n",
       "    }\n",
       "</style>\n",
       "<table border=\"1\" class=\"dataframe\">\n",
       "  <thead>\n",
       "    <tr style=\"text-align: right;\">\n",
       "      <th></th>\n",
       "      <th>Country</th>\n",
       "      <th>Region</th>\n",
       "      <th>Population</th>\n",
       "      <th>Area (sq. mi.)</th>\n",
       "      <th>Pop. Density (per sq. mi.)</th>\n",
       "      <th>Coastline (coast/area ratio)</th>\n",
       "      <th>Net migration</th>\n",
       "      <th>Infant mortality (per 1000 births)</th>\n",
       "      <th>GDP ($ per capita)</th>\n",
       "      <th>Literacy (%)</th>\n",
       "      <th>...</th>\n",
       "      <th>Arable (%)</th>\n",
       "      <th>Crops (%)</th>\n",
       "      <th>Other (%)</th>\n",
       "      <th>Climate</th>\n",
       "      <th>Birthrate</th>\n",
       "      <th>Deathrate</th>\n",
       "      <th>Agriculture</th>\n",
       "      <th>Industry</th>\n",
       "      <th>Service</th>\n",
       "      <th>Humanitarian_Help</th>\n",
       "    </tr>\n",
       "  </thead>\n",
       "  <tbody>\n",
       "    <tr>\n",
       "      <th>0</th>\n",
       "      <td>Afghanistan</td>\n",
       "      <td>ASIA (EX. NEAR EAST)</td>\n",
       "      <td>31056997</td>\n",
       "      <td>647500</td>\n",
       "      <td>48.0</td>\n",
       "      <td>0.00</td>\n",
       "      <td>23.06</td>\n",
       "      <td>163.07</td>\n",
       "      <td>700</td>\n",
       "      <td>36.0</td>\n",
       "      <td>...</td>\n",
       "      <td>12.13</td>\n",
       "      <td>0.22</td>\n",
       "      <td>87.65</td>\n",
       "      <td>1.0</td>\n",
       "      <td>46.60</td>\n",
       "      <td>20.34</td>\n",
       "      <td>0.380</td>\n",
       "      <td>0.240</td>\n",
       "      <td>0.380</td>\n",
       "      <td>Urgent</td>\n",
       "    </tr>\n",
       "    <tr>\n",
       "      <th>1</th>\n",
       "      <td>Albania</td>\n",
       "      <td>EASTERN EUROPE</td>\n",
       "      <td>3581655</td>\n",
       "      <td>28748</td>\n",
       "      <td>124.6</td>\n",
       "      <td>1.26</td>\n",
       "      <td>-4.93</td>\n",
       "      <td>21.52</td>\n",
       "      <td>4500</td>\n",
       "      <td>86.5</td>\n",
       "      <td>...</td>\n",
       "      <td>21.09</td>\n",
       "      <td>4.42</td>\n",
       "      <td>74.49</td>\n",
       "      <td>3.0</td>\n",
       "      <td>15.11</td>\n",
       "      <td>5.22</td>\n",
       "      <td>0.232</td>\n",
       "      <td>0.188</td>\n",
       "      <td>0.579</td>\n",
       "      <td>Balanced</td>\n",
       "    </tr>\n",
       "    <tr>\n",
       "      <th>2</th>\n",
       "      <td>Algeria</td>\n",
       "      <td>NORTHERN AFRICA</td>\n",
       "      <td>32930091</td>\n",
       "      <td>2381740</td>\n",
       "      <td>13.8</td>\n",
       "      <td>0.04</td>\n",
       "      <td>-0.39</td>\n",
       "      <td>31.00</td>\n",
       "      <td>6000</td>\n",
       "      <td>70.0</td>\n",
       "      <td>...</td>\n",
       "      <td>3.22</td>\n",
       "      <td>0.25</td>\n",
       "      <td>96.53</td>\n",
       "      <td>1.0</td>\n",
       "      <td>17.14</td>\n",
       "      <td>4.61</td>\n",
       "      <td>0.101</td>\n",
       "      <td>0.600</td>\n",
       "      <td>0.298</td>\n",
       "      <td>Balanced</td>\n",
       "    </tr>\n",
       "    <tr>\n",
       "      <th>3</th>\n",
       "      <td>American Samoa</td>\n",
       "      <td>OCEANIA</td>\n",
       "      <td>57794</td>\n",
       "      <td>199</td>\n",
       "      <td>290.4</td>\n",
       "      <td>58.29</td>\n",
       "      <td>-20.71</td>\n",
       "      <td>9.27</td>\n",
       "      <td>8000</td>\n",
       "      <td>97.0</td>\n",
       "      <td>...</td>\n",
       "      <td>10.00</td>\n",
       "      <td>15.00</td>\n",
       "      <td>75.00</td>\n",
       "      <td>2.0</td>\n",
       "      <td>22.46</td>\n",
       "      <td>3.27</td>\n",
       "      <td>0.000</td>\n",
       "      <td>0.000</td>\n",
       "      <td>0.000</td>\n",
       "      <td>Balanced</td>\n",
       "    </tr>\n",
       "    <tr>\n",
       "      <th>4</th>\n",
       "      <td>Andorra</td>\n",
       "      <td>WESTERN EUROPE</td>\n",
       "      <td>71201</td>\n",
       "      <td>468</td>\n",
       "      <td>152.1</td>\n",
       "      <td>0.00</td>\n",
       "      <td>6.60</td>\n",
       "      <td>4.05</td>\n",
       "      <td>19000</td>\n",
       "      <td>100.0</td>\n",
       "      <td>...</td>\n",
       "      <td>2.22</td>\n",
       "      <td>0.00</td>\n",
       "      <td>97.78</td>\n",
       "      <td>3.0</td>\n",
       "      <td>8.71</td>\n",
       "      <td>6.25</td>\n",
       "      <td>0.000</td>\n",
       "      <td>0.000</td>\n",
       "      <td>0.000</td>\n",
       "      <td>Balanced</td>\n",
       "    </tr>\n",
       "  </tbody>\n",
       "</table>\n",
       "<p>5 rows × 21 columns</p>\n",
       "</div>"
      ],
      "text/plain": [
       "           Country                               Region  Population  \\\n",
       "0     Afghanistan         ASIA (EX. NEAR EAST)             31056997   \n",
       "1         Albania   EASTERN EUROPE                          3581655   \n",
       "2         Algeria   NORTHERN AFRICA                        32930091   \n",
       "3  American Samoa   OCEANIA                                   57794   \n",
       "4         Andorra   WESTERN EUROPE                            71201   \n",
       "\n",
       "   Area (sq. mi.)  Pop. Density (per sq. mi.)  Coastline (coast/area ratio)  \\\n",
       "0          647500                        48.0                          0.00   \n",
       "1           28748                       124.6                          1.26   \n",
       "2         2381740                        13.8                          0.04   \n",
       "3             199                       290.4                         58.29   \n",
       "4             468                       152.1                          0.00   \n",
       "\n",
       "   Net migration  Infant mortality (per 1000 births)  GDP ($ per capita)  \\\n",
       "0          23.06                              163.07                 700   \n",
       "1          -4.93                               21.52                4500   \n",
       "2          -0.39                               31.00                6000   \n",
       "3         -20.71                                9.27                8000   \n",
       "4           6.60                                4.05               19000   \n",
       "\n",
       "   Literacy (%)  ...  Arable (%)  Crops (%)  Other (%)  Climate  Birthrate  \\\n",
       "0          36.0  ...       12.13       0.22      87.65      1.0      46.60   \n",
       "1          86.5  ...       21.09       4.42      74.49      3.0      15.11   \n",
       "2          70.0  ...        3.22       0.25      96.53      1.0      17.14   \n",
       "3          97.0  ...       10.00      15.00      75.00      2.0      22.46   \n",
       "4         100.0  ...        2.22       0.00      97.78      3.0       8.71   \n",
       "\n",
       "   Deathrate  Agriculture  Industry  Service  Humanitarian_Help  \n",
       "0      20.34        0.380     0.240    0.380             Urgent  \n",
       "1       5.22        0.232     0.188    0.579           Balanced  \n",
       "2       4.61        0.101     0.600    0.298           Balanced  \n",
       "3       3.27        0.000     0.000    0.000           Balanced  \n",
       "4       6.25        0.000     0.000    0.000           Balanced  \n",
       "\n",
       "[5 rows x 21 columns]"
      ]
     },
     "execution_count": 49,
     "metadata": {},
     "output_type": "execute_result"
    }
   ],
   "source": [
    "dfPaises.head()"
   ]
  }
 ],
 "metadata": {
  "kernelspec": {
   "display_name": "Python 3",
   "language": "python",
   "name": "python3"
  },
  "language_info": {
   "codemirror_mode": {
    "name": "ipython",
    "version": 3
   },
   "file_extension": ".py",
   "mimetype": "text/x-python",
   "name": "python",
   "nbconvert_exporter": "python",
   "pygments_lexer": "ipython3",
   "version": "3.11.9"
  }
 },
 "nbformat": 4,
 "nbformat_minor": 5
}
