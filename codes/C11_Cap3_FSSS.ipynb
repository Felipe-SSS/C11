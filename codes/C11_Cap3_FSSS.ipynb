{
 "cells": [
  {
   "cell_type": "markdown",
   "id": "fabf4fdb",
   "metadata": {},
   "source": [
    "<center><img src=\"https://www.python.org/static/img/python-logo.png\" title=\"Python Logo\"/></center>"
   ]
  },
  {
   "cell_type": "markdown",
   "id": "4805f901",
   "metadata": {},
   "source": [
    "<blockquote>\n",
    "<center><h2 style=\"font-family:Lucida Console\">Ciência de Dados com Python</h2></center>\n",
    "</blockquote>\n",
    "\n",
    "```python \n",
    "print('Felipe Soares dos Santos Silveira, GES | 2025.2')\n",
    "```\n",
    "\n",
    "<hr>"
   ]
  },
  {
   "cell_type": "markdown",
   "id": "099ee309",
   "metadata": {},
   "source": [
    "> <center><h3 style=\"font-family:Lucida Console\">Capítulo 3</h3></center>"
   ]
  },
  {
   "cell_type": "markdown",
   "id": "0fe14147",
   "metadata": {},
   "source": [
    "<div style=\"display: flex; justify-content: center; gap: 10px;\">\n",
    "  <img src=\"https://raw.githubusercontent.com/Felipe-SSS/C11/main/images/Cap2_Exercicios_1.png\" title=\"Exercícios (Parte 1)\" width=\"600\"/>\n",
    "  <img src=\"https://raw.githubusercontent.com/Felipe-SSS/C11/main/images/Cap2_Exercicios_2.png\" title=\"Exercícios (Parte 2)\" width=\"607\"/>\n",
    "</div>"
   ]
  },
  {
   "cell_type": "markdown",
   "id": "8bef96bf",
   "metadata": {},
   "source": [
    "> <h4 style=\"font-family:Lucida Console\">Exercício 1</h4>"
   ]
  },
  {
   "cell_type": "code",
   "execution_count": null,
   "id": "21d312df",
   "metadata": {},
   "outputs": [],
   "source": [
    "# Insira o código do exercício 1 aqui"
   ]
  },
  {
   "cell_type": "markdown",
   "id": "ef929326",
   "metadata": {},
   "source": [
    "> <h4 style=\"font-family:Lucida Console\">Exercício 2</h4>"
   ]
  },
  {
   "cell_type": "code",
   "execution_count": null,
   "id": "3f4ea489",
   "metadata": {},
   "outputs": [],
   "source": [
    "# Insira o código do exercício 2 aqui"
   ]
  },
  {
   "cell_type": "markdown",
   "id": "8cf96104",
   "metadata": {},
   "source": [
    "> <h4 style=\"font-family:Lucida Console\">Exercício 3</h4>"
   ]
  },
  {
   "cell_type": "code",
   "execution_count": null,
   "id": "5b28683f",
   "metadata": {},
   "outputs": [],
   "source": [
    "# Insira o código do exercício 3 aqui"
   ]
  },
  {
   "cell_type": "markdown",
   "id": "20e7cf5a",
   "metadata": {},
   "source": [
    "> <h4 style=\"font-family:Lucida Console\">Exercício 4</h4>"
   ]
  },
  {
   "cell_type": "code",
   "execution_count": null,
   "id": "259e8a05",
   "metadata": {},
   "outputs": [],
   "source": [
    "# Insira o código do exercício 4 aqui"
   ]
  },
  {
   "cell_type": "markdown",
   "id": "75c26247",
   "metadata": {},
   "source": [
    "> <h4 style=\"font-family:Lucida Console\">Exercício 5</h4>"
   ]
  },
  {
   "cell_type": "code",
   "execution_count": null,
   "id": "87e394cc",
   "metadata": {},
   "outputs": [],
   "source": [
    "# Insira o código do exercício 5 aqui"
   ]
  },
  {
   "cell_type": "markdown",
   "id": "94b521e3",
   "metadata": {},
   "source": [
    "> <h4 style=\"font-family:Lucida Console\">Exercício 6</h4>"
   ]
  },
  {
   "cell_type": "code",
   "execution_count": null,
   "id": "9ad2c168",
   "metadata": {},
   "outputs": [],
   "source": [
    "# Insira o código do exercício 6 aqui"
   ]
  }
 ],
 "metadata": {
  "language_info": {
   "name": "python"
  }
 },
 "nbformat": 4,
 "nbformat_minor": 5
}
