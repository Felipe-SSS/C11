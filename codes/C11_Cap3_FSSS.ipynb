{
 "cells": [
  {
   "cell_type": "markdown",
   "id": "fabf4fdb",
   "metadata": {},
   "source": [
    "<center><img src=\"https://www.python.org/static/img/python-logo.png\" title=\"Python Logo\"/></center>"
   ]
  },
  {
   "cell_type": "markdown",
   "id": "4805f901",
   "metadata": {},
   "source": [
    "<blockquote>\n",
    "<center><h2 style=\"font-family:Lucida Console\">Ciência de Dados com Python</h2></center>\n",
    "</blockquote>\n",
    "\n",
    "```python \n",
    "print('Felipe Soares dos Santos Silveira, GES | 2025.2')\n",
    "```\n",
    "\n",
    "<hr>"
   ]
  },
  {
   "cell_type": "markdown",
   "id": "099ee309",
   "metadata": {},
   "source": [
    "> <center><h3 style=\"font-family:Lucida Console\">Capítulo 3</h3></center>"
   ]
  },
  {
   "cell_type": "markdown",
   "id": "0fe14147",
   "metadata": {},
   "source": [
    "<div style=\"display: flex; justify-content: center; gap: 10px;\">\n",
    "  <img src=\"https://raw.githubusercontent.com/Felipe-SSS/C11/main/images/Cap3_Exercicios_1.png\" title=\"Exercícios (Parte 1)\" width=\"600\"/>\n",
    "  <img src=\"https://raw.githubusercontent.com/Felipe-SSS/C11/main/images/Cap3_Exercicios_2.png\" title=\"Exercícios (Parte 2)\" width=\"607\"/>\n",
    "</div>"
   ]
  },
  {
   "cell_type": "markdown",
   "id": "8bef96bf",
   "metadata": {},
   "source": [
    "> <h4 style=\"font-family:Lucida Console\">Exercício 1</h4>"
   ]
  },
  {
   "cell_type": "code",
   "execution_count": 31,
   "id": "21d312df",
   "metadata": {},
   "outputs": [],
   "source": [
    "colocados = ['Flamengo', 'Palmeiras', 'Corinthians', 'Vasco', 'Barcelona']"
   ]
  },
  {
   "cell_type": "code",
   "execution_count": null,
   "id": "88365188",
   "metadata": {},
   "outputs": [
    {
     "data": {
      "text/plain": [
       "['Corinthians', 'Flamengo', 'Palmeiras']"
      ]
     },
     "execution_count": 23,
     "metadata": {},
     "output_type": "execute_result"
    }
   ],
   "source": [
    "print(colocados[1:4])"
   ]
  },
  {
   "cell_type": "code",
   "execution_count": null,
   "id": "f2fe733f",
   "metadata": {},
   "outputs": [
    {
     "name": "stdout",
     "output_type": "stream",
     "text": [
      "['Vasco', 'Barcelona']\n"
     ]
    }
   ],
   "source": [
    "print(colocados[-2:])"
   ]
  },
  {
   "cell_type": "code",
   "execution_count": 14,
   "id": "0d53e093",
   "metadata": {},
   "outputs": [
    {
     "name": "stdout",
     "output_type": "stream",
     "text": [
      "['Barcelona', 'Corinthians', 'Flamengo', 'Palmeiras', 'Vasco']\n"
     ]
    }
   ],
   "source": [
    "colocados.sort()\n",
    "print(colocados)"
   ]
  },
  {
   "cell_type": "code",
   "execution_count": 15,
   "id": "8b742bc5",
   "metadata": {},
   "outputs": [
    {
     "data": {
      "text/plain": [
       "0"
      ]
     },
     "execution_count": 15,
     "metadata": {},
     "output_type": "execute_result"
    }
   ],
   "source": [
    "colocados.index('Barcelona')"
   ]
  },
  {
   "cell_type": "markdown",
   "id": "ef929326",
   "metadata": {},
   "source": [
    "> <h4 style=\"font-family:Lucida Console\">Exercício 2</h4>"
   ]
  },
  {
   "cell_type": "code",
   "execution_count": 20,
   "id": "3f4ea489",
   "metadata": {},
   "outputs": [],
   "source": [
    "smartphones_1 = {'iPhone', 'Motorola', 'Samsung', 'Xiaomi'}\n",
    "smartphones_2 = {'Motorola', 'Samsung', 'Xiaomi', 'Nokia Tijolão'}\n",
    "\n",
    "loja_1 = {'smartphones': smartphones_1}\n",
    "loja_2 = {'smartphones': smartphones_2}"
   ]
  },
  {
   "cell_type": "code",
   "execution_count": 21,
   "id": "7cfcd76a",
   "metadata": {},
   "outputs": [
    {
     "name": "stdout",
     "output_type": "stream",
     "text": [
      "{'iPhone', 'Xiaomi', 'Samsung', 'Motorola'}\n",
      "{'Nokia Tijolão', 'Xiaomi', 'Samsung', 'Motorola'}\n"
     ]
    }
   ],
   "source": [
    "print(loja_1['smartphones'])\n",
    "print(loja_2['smartphones'])"
   ]
  },
  {
   "cell_type": "code",
   "execution_count": null,
   "id": "d07e2b47",
   "metadata": {},
   "outputs": [
    {
     "name": "stdout",
     "output_type": "stream",
     "text": [
      "{'Nokia Tijolão', 'Samsung', 'Motorola', 'Xiaomi', 'iPhone'}\n"
     ]
    }
   ],
   "source": [
    "modelos_disponíveis = loja_1['smartphones'] | loja_2['smartphones']\n",
    "print(modelos_disponíveis)"
   ]
  },
  {
   "cell_type": "code",
   "execution_count": 40,
   "id": "0b267ee6",
   "metadata": {},
   "outputs": [
    {
     "name": "stdout",
     "output_type": "stream",
     "text": [
      "{'Motorola', 'Xiaomi', 'Samsung'}\n"
     ]
    }
   ],
   "source": [
    "modelos_comum = loja_1['smartphones'] & loja_2['smartphones']\n",
    "print(modelos_comum)"
   ]
  },
  {
   "cell_type": "markdown",
   "id": "8cf96104",
   "metadata": {},
   "source": [
    "> <h4 style=\"font-family:Lucida Console\">Exercício 3</h4>"
   ]
  },
  {
   "cell_type": "code",
   "execution_count": 46,
   "id": "5b28683f",
   "metadata": {},
   "outputs": [],
   "source": [
    "nome = str(input())\n",
    "media = float(input())\n",
    "\n",
    "if media >= 50:\n",
    "    aprovado = 'AP'\n",
    "else:\n",
    "    aprovado = 'RP'\n",
    "\n",
    "aluno = {'nome': nome, 'média': media, 'aprovado': aprovado}\n",
    "\n",
    "del nome\n",
    "del media\n",
    "del aprovado"
   ]
  },
  {
   "cell_type": "code",
   "execution_count": 48,
   "id": "a7653f90",
   "metadata": {},
   "outputs": [
    {
     "name": "stdout",
     "output_type": "stream",
     "text": [
      "{'nome': 'Pedro', 'média': 60.0, 'aprovado': 'AP'}\n"
     ]
    }
   ],
   "source": [
    "print(aluno)"
   ]
  },
  {
   "cell_type": "markdown",
   "id": "20e7cf5a",
   "metadata": {},
   "source": [
    "> <h4 style=\"font-family:Lucida Console\">Exercício 4</h4>"
   ]
  },
  {
   "cell_type": "code",
   "execution_count": 4,
   "id": "259e8a05",
   "metadata": {},
   "outputs": [],
   "source": [
    "nomes = []\n",
    "pesos = []\n",
    "\n",
    "for i in range(0, 3):\n",
    "    nomes.append(str(input()))\n",
    "    pesos.append(float(input()))"
   ]
  },
  {
   "cell_type": "code",
   "execution_count": 3,
   "id": "a34bd459",
   "metadata": {},
   "outputs": [
    {
     "name": "stdout",
     "output_type": "stream",
     "text": [
      "Mauro\n"
     ]
    }
   ],
   "source": [
    "print(nomes[pesos.index(max(pesos))])"
   ]
  },
  {
   "cell_type": "code",
   "execution_count": 5,
   "id": "113369a2",
   "metadata": {},
   "outputs": [
    {
     "name": "stdout",
     "output_type": "stream",
     "text": [
      "Joao\n"
     ]
    }
   ],
   "source": [
    "print(nomes[pesos.index(min(pesos))])"
   ]
  },
  {
   "cell_type": "markdown",
   "id": "75c26247",
   "metadata": {},
   "source": [
    "> <h4 style=\"font-family:Lucida Console\">Exercício 5</h4>"
   ]
  },
  {
   "cell_type": "code",
   "execution_count": 5,
   "id": "87e394cc",
   "metadata": {},
   "outputs": [],
   "source": [
    "total_pessoas = 0\n",
    "soma_idade = 0\n",
    "mulheres_ate_19 = 0\n",
    "\n",
    "while True:\n",
    "    nome = str(input())\n",
    "    \n",
    "    if nome.lower() == '-1':\n",
    "        break\n",
    "    \n",
    "    idade = int(input())\n",
    "    \n",
    "    sexo = str(input())\n",
    "    \n",
    "    soma_idade += idade\n",
    "    total_pessoas += 1\n",
    "    \n",
    "    if sexo.upper() == 'F' and idade < 20:\n",
    "        mulheres_ate_19 += 1"
   ]
  },
  {
   "cell_type": "code",
   "execution_count": 6,
   "id": "60eb2a42",
   "metadata": {},
   "outputs": [
    {
     "name": "stdout",
     "output_type": "stream",
     "text": [
      "Média das idades: 15.0\n"
     ]
    }
   ],
   "source": [
    "print(f'Média das idades: {soma_idade/total_pessoas}')"
   ]
  },
  {
   "cell_type": "code",
   "execution_count": 7,
   "id": "84d2968f",
   "metadata": {},
   "outputs": [
    {
     "name": "stdout",
     "output_type": "stream",
     "text": [
      "Total de mulheres com menos de 20 anos: 1\n"
     ]
    }
   ],
   "source": [
    "print(f'Total de mulheres com menos de 20 anos: {mulheres_ate_19}')"
   ]
  }
 ],
 "metadata": {
  "kernelspec": {
   "display_name": "Python 3",
   "language": "python",
   "name": "python3"
  },
  "language_info": {
   "codemirror_mode": {
    "name": "ipython",
    "version": 3
   },
   "file_extension": ".py",
   "mimetype": "text/x-python",
   "name": "python",
   "nbconvert_exporter": "python",
   "pygments_lexer": "ipython3",
   "version": "3.11.9"
  }
 },
 "nbformat": 4,
 "nbformat_minor": 5
}
