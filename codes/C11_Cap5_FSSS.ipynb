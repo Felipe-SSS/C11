{
 "cells": [
  {
   "cell_type": "markdown",
   "id": "fabf4fdb",
   "metadata": {},
   "source": [
    "<center><img src=\"https://www.python.org/static/img/python-logo.png\" title=\"Python Logo\"/></center>"
   ]
  },
  {
   "cell_type": "markdown",
   "id": "4805f901",
   "metadata": {},
   "source": [
    "<blockquote>\n",
    "<center><h2 style=\"font-family:Lucida Console\">Ciência de Dados com Python</h2></center>\n",
    "</blockquote>\n",
    "\n",
    "```python \n",
    "print('Felipe Soares dos Santos Silveira, GES | 2025.2')\n",
    "```\n",
    "\n",
    "<hr>"
   ]
  },
  {
   "cell_type": "markdown",
   "id": "099ee309",
   "metadata": {},
   "source": [
    "> <center><h3 style=\"font-family:Lucida Console\">Capítulo 5</h3></center>"
   ]
  },
  {
   "cell_type": "markdown",
   "id": "0fe14147",
   "metadata": {},
   "source": [
    "<div style=\"display: flex; justify-content: center; gap: 10px;\">\n",
    "  <img src=\"https://raw.githubusercontent.com/Felipe-SSS/C11/main/images/Cap5_Exercicios_1.png\" title=\"Exercícios (Parte 1)\" width=\"600\"/>\n",
    "  <img src=\"https://raw.githubusercontent.com/Felipe-SSS/C11/main/images/Cap5_Exercicios_2.png\" title=\"Exercícios (Parte 2)\" width=\"607\"/>\n",
    "</div>"
   ]
  },
  {
   "cell_type": "markdown",
   "id": "8bef96bf",
   "metadata": {},
   "source": [
    "> <h4 style=\"font-family:Lucida Console\">Exercício 1</h4>"
   ]
  },
  {
   "cell_type": "code",
   "execution_count": 1,
   "id": "21d312df",
   "metadata": {},
   "outputs": [],
   "source": [
    "import pandas as pd\n",
    "\n",
    "seriesAno1 = {'Java': 16.25, 'C': 16.04, 'Python': 9.85}\n",
    "seriesAno2 = {'C': 16.21, 'Python': 12.12, 'Java': 11.68}\n",
    "\n",
    "seriesAno1 = pd.Series(seriesAno1)\n",
    "seriesAno2 = pd.Series(seriesAno2)"
   ]
  },
  {
   "cell_type": "markdown",
   "id": "ef929326",
   "metadata": {},
   "source": [
    "> <h4 style=\"font-family:Lucida Console\">Exercício 2</h4>"
   ]
  },
  {
   "cell_type": "code",
   "execution_count": 2,
   "id": "3f4ea489",
   "metadata": {},
   "outputs": [
    {
     "name": "stdout",
     "output_type": "stream",
     "text": [
      "Porcentagem total de mercado no ano 1: 42.14%\n",
      "Porcentagem total de mercado no ano 2: 40.01%\n"
     ]
    }
   ],
   "source": [
    "totalPctAno1 = seriesAno1.sum()\n",
    "totalPctAno2 = seriesAno2.sum()\n",
    "\n",
    "print(f'Porcentagem total de mercado no ano 1: {totalPctAno1}%')\n",
    "print(f'Porcentagem total de mercado no ano 2: {totalPctAno2}%')"
   ]
  },
  {
   "cell_type": "markdown",
   "id": "8cf96104",
   "metadata": {},
   "source": [
    "> <h4 style=\"font-family:Lucida Console\">Exercício 3</h4>"
   ]
  },
  {
   "cell_type": "code",
   "execution_count": 4,
   "id": "5b28683f",
   "metadata": {},
   "outputs": [
    {
     "name": "stdout",
     "output_type": "stream",
     "text": [
      "C        -0.17\n",
      "Java      4.57\n",
      "Python   -2.27\n",
      "dtype: float64\n"
     ]
    }
   ],
   "source": [
    "declinioMercado = seriesAno1.sub(seriesAno2)\n",
    "print(declinioMercado)"
   ]
  },
  {
   "cell_type": "markdown",
   "id": "20e7cf5a",
   "metadata": {},
   "source": [
    "> <h4 style=\"font-family:Lucida Console\">Exercício 4</h4>"
   ]
  },
  {
   "cell_type": "code",
   "execution_count": 5,
   "id": "259e8a05",
   "metadata": {},
   "outputs": [
    {
     "name": "stdout",
     "output_type": "stream",
     "text": [
      "C        -0.17\n",
      "Python   -2.27\n",
      "dtype: float64\n"
     ]
    }
   ],
   "source": [
    "print(declinioMercado[declinioMercado < 0])"
   ]
  },
  {
   "cell_type": "markdown",
   "id": "75c26247",
   "metadata": {},
   "source": [
    "> <h4 style=\"font-family:Lucida Console\">Exercício 5</h4>"
   ]
  },
  {
   "cell_type": "code",
   "execution_count": 9,
   "id": "87e394cc",
   "metadata": {},
   "outputs": [
    {
     "name": "stdout",
     "output_type": "stream",
     "text": [
      "Python    16.66\n",
      "dtype: float64\n"
     ]
    }
   ],
   "source": [
    "declinioProximos2Anos = declinioMercado*2\n",
    "seriesAno4 = seriesAno2.sub(declinioProximos2Anos)\n",
    "\n",
    "print(seriesAno4.nlargest(1))"
   ]
  },
  {
   "cell_type": "markdown",
   "id": "94b521e3",
   "metadata": {},
   "source": [
    "> <h4 style=\"font-family:Lucida Console\">Exercício 6</h4>"
   ]
  },
  {
   "cell_type": "code",
   "execution_count": null,
   "id": "9ad2c168",
   "metadata": {},
   "outputs": [],
   "source": [
    "import numpy as np\n",
    "import pandas as pd\n",
    "np.random.seed(10)"
   ]
  },
  {
   "cell_type": "code",
   "execution_count": 11,
   "id": "77077599",
   "metadata": {},
   "outputs": [],
   "source": [
    "df = pd.DataFrame(index=['A', 'B', 'C', 'D', 'E'], \n",
    "                  columns=['W', 'X', 'Y', 'Z'], \n",
    "                  data=np.random.randint(1, 50, [5,4]))"
   ]
  },
  {
   "cell_type": "code",
   "execution_count": 13,
   "id": "a2ff7b6e",
   "metadata": {},
   "outputs": [
    {
     "name": "stdout",
     "output_type": "stream",
     "text": [
      "17.0\n"
     ]
    }
   ],
   "source": [
    "col_x = pd.Series(df['X'])\n",
    "x_menores_30 = col_x[col_x < 30]\n",
    "print(x_menores_30.mean())"
   ]
  },
  {
   "cell_type": "markdown",
   "id": "c54a4d87",
   "metadata": {},
   "source": [
    "> <h4 style=\"font-family:Lucida Console\">Exercício 7</h4>"
   ]
  },
  {
   "cell_type": "code",
   "execution_count": 32,
   "id": "d2f42c85",
   "metadata": {},
   "outputs": [
    {
     "name": "stdout",
     "output_type": "stream",
     "text": [
      "24.0\n",
      "75\n"
     ]
    }
   ],
   "source": [
    "media_D_loc = np.mean(df.loc[['D']])\n",
    "soma_E_iloc = np.sum(df.iloc[4])\n",
    "print(media_D_loc)\n",
    "print(soma_E_iloc)"
   ]
  },
  {
   "cell_type": "markdown",
   "id": "95e38e6c",
   "metadata": {},
   "source": [
    "> <h4 style=\"font-family:Lucida Console\">Exercício 8</h4>"
   ]
  },
  {
   "cell_type": "code",
   "execution_count": 34,
   "id": "eeb5513a",
   "metadata": {},
   "outputs": [
    {
     "name": "stdout",
     "output_type": "stream",
     "text": [
      "    X   Y\n",
      "A  32  40\n",
      "C  30  11\n",
      "E  20  10\n"
     ]
    }
   ],
   "source": [
    "sliced_df = df.loc[['A', 'C', 'E'], ['X', 'Y']]\n",
    "print(sliced_df)"
   ]
  },
  {
   "cell_type": "code",
   "execution_count": 47,
   "id": "4336169b",
   "metadata": {},
   "outputs": [
    {
     "name": "stdout",
     "output_type": "stream",
     "text": [
      "X    82\n",
      "Y    61\n",
      "dtype: int64\n"
     ]
    }
   ],
   "source": [
    "sum_cols = sliced_df.sum(axis=0)\n",
    "print(sum_cols)"
   ]
  },
  {
   "cell_type": "code",
   "execution_count": 48,
   "id": "7f68c567",
   "metadata": {},
   "outputs": [
    {
     "name": "stdout",
     "output_type": "stream",
     "text": [
      "A    72\n",
      "C    41\n",
      "E    30\n",
      "dtype: int64\n"
     ]
    }
   ],
   "source": [
    "sum_rows = sliced_df.sum(axis=1)\n",
    "print(sum_rows)"
   ]
  }
 ],
 "metadata": {
  "kernelspec": {
   "display_name": "Python 3",
   "language": "python",
   "name": "python3"
  },
  "language_info": {
   "codemirror_mode": {
    "name": "ipython",
    "version": 3
   },
   "file_extension": ".py",
   "mimetype": "text/x-python",
   "name": "python",
   "nbconvert_exporter": "python",
   "pygments_lexer": "ipython3",
   "version": "3.11.9"
  }
 },
 "nbformat": 4,
 "nbformat_minor": 5
}
